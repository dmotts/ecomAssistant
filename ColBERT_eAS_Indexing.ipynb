{
  "cells": [
    {
      "cell_type": "markdown",
      "metadata": {
        "id": "vTwpDNBnorUT"
      },
      "source": [
        "# ColBERTv2: Indexing Notebook"
      ]
    },
    {
      "cell_type": "markdown",
      "source": [
        "## Setup\n",
        "First, we'll import the relevant classes. Note that `Indexer`is the key actor here. Next, we'll download the necessary dependencies."
      ],
      "metadata": {
        "id": "UiiYz5ycKU-8"
      }
    },
    {
      "cell_type": "code",
      "source": [
        "from google.colab import drive\n",
        "drive.mount('/content/drive')"
      ],
      "metadata": {
        "colab": {
          "base_uri": "https://localhost:8080/"
        },
        "id": "uuBZb5CJFw9S",
        "outputId": "217f9af5-e874-4375-9f24-e342e8cf4a37"
      },
      "execution_count": 1,
      "outputs": [
        {
          "output_type": "stream",
          "name": "stdout",
          "text": [
            "Drive already mounted at /content/drive; to attempt to forcibly remount, call drive.mount(\"/content/drive\", force_remount=True).\n"
          ]
        }
      ]
    },
    {
      "cell_type": "code",
      "execution_count": 2,
      "metadata": {
        "colab": {
          "base_uri": "https://localhost:8080/"
        },
        "id": "nl_YBBPTo5AZ",
        "outputId": "79677bec-c0f7-423b-8315-465af4780f22"
      },
      "outputs": [
        {
          "output_type": "stream",
          "name": "stdout",
          "text": [
            "Already up to date.\n"
          ]
        }
      ],
      "source": [
        "!git -C /content/drive/MyDrive/ColBERT_Indexing/ColBERT/ pull || git clone https://github.com/stanford-futuredata/ColBERT.git /content/drive/MyDrive/ColBERT_Indexing/ColBERT/\n",
        "import sys; sys.path.insert(0, '/content/drive/MyDrive/ColBERT_Indexing/ColBERT')\n"
      ]
    },
    {
      "cell_type": "code",
      "source": [
        "!git -C /content/drive/MyDrive/ColBERT_Indexing/eAS pull || git clone https://github.com/rfeinberg3/eBayAutoSeller.git /content/drive/MyDrive/ColBERT_Indexing/eAS"
      ],
      "metadata": {
        "colab": {
          "base_uri": "https://localhost:8080/"
        },
        "id": "TbklWU8hGduW",
        "outputId": "7d9f73af-dfcf-4d0d-aec5-c4500c7a6ebb"
      },
      "execution_count": 3,
      "outputs": [
        {
          "output_type": "stream",
          "name": "stdout",
          "text": [
            "Already up to date.\n"
          ]
        }
      ]
    },
    {
      "cell_type": "code",
      "execution_count": 4,
      "metadata": {
        "colab": {
          "base_uri": "https://localhost:8080/"
        },
        "id": "FmBi2UT5pxb3",
        "outputId": "c83c36b7-5790-4f80-c337-7c0bfe80f7fb",
        "collapsed": true
      },
      "outputs": [
        {
          "output_type": "stream",
          "name": "stdout",
          "text": [
            "Requirement already satisfied: pip in /usr/local/lib/python3.10/dist-packages (24.1)\n",
            "\u001b[33mWARNING: Running pip as the 'root' user can result in broken permissions and conflicting behaviour with the system package manager, possibly rendering your system unusable.It is recommended to use a virtual environment instead: https://pip.pypa.io/warnings/venv. Use the --root-user-action option if you know what you are doing and want to suppress this warning.\u001b[0m\u001b[33m\n",
            "\u001b[0mObtaining file:///content/drive/MyDrive/ColBERT_Indexing/ColBERT\n",
            "  Preparing metadata (setup.py) ... \u001b[?25l\u001b[?25hdone\n",
            "Requirement already satisfied: bitarray in /usr/local/lib/python3.10/dist-packages (from colbert-ai==0.2.20) (2.9.2)\n",
            "Requirement already satisfied: datasets in /usr/local/lib/python3.10/dist-packages (from colbert-ai==0.2.20) (2.20.0)\n",
            "Requirement already satisfied: flask in /usr/local/lib/python3.10/dist-packages (from colbert-ai==0.2.20) (2.2.5)\n",
            "Requirement already satisfied: git-python in /usr/local/lib/python3.10/dist-packages (from colbert-ai==0.2.20) (1.0.3)\n",
            "Requirement already satisfied: python-dotenv in /usr/local/lib/python3.10/dist-packages (from colbert-ai==0.2.20) (1.0.1)\n",
            "Requirement already satisfied: ninja in /usr/local/lib/python3.10/dist-packages (from colbert-ai==0.2.20) (1.11.1.1)\n",
            "Requirement already satisfied: scipy in /usr/local/lib/python3.10/dist-packages (from colbert-ai==0.2.20) (1.11.4)\n",
            "Requirement already satisfied: tqdm in /usr/local/lib/python3.10/dist-packages (from colbert-ai==0.2.20) (4.66.4)\n",
            "Requirement already satisfied: transformers in /usr/local/lib/python3.10/dist-packages (from colbert-ai==0.2.20) (4.41.2)\n",
            "Requirement already satisfied: ujson in /usr/local/lib/python3.10/dist-packages (from colbert-ai==0.2.20) (5.10.0)\n",
            "Requirement already satisfied: torch==1.13.1 in /usr/local/lib/python3.10/dist-packages (from colbert-ai==0.2.20) (1.13.1)\n",
            "Requirement already satisfied: faiss-gpu>=1.7.0 in /usr/local/lib/python3.10/dist-packages (from colbert-ai==0.2.20) (1.7.2)\n",
            "Requirement already satisfied: typing-extensions in /usr/local/lib/python3.10/dist-packages (from torch==1.13.1->colbert-ai==0.2.20) (4.12.2)\n",
            "Requirement already satisfied: nvidia-cuda-runtime-cu11==11.7.99 in /usr/local/lib/python3.10/dist-packages (from torch==1.13.1->colbert-ai==0.2.20) (11.7.99)\n",
            "Requirement already satisfied: nvidia-cudnn-cu11==8.5.0.96 in /usr/local/lib/python3.10/dist-packages (from torch==1.13.1->colbert-ai==0.2.20) (8.5.0.96)\n",
            "Requirement already satisfied: nvidia-cublas-cu11==11.10.3.66 in /usr/local/lib/python3.10/dist-packages (from torch==1.13.1->colbert-ai==0.2.20) (11.10.3.66)\n",
            "Requirement already satisfied: nvidia-cuda-nvrtc-cu11==11.7.99 in /usr/local/lib/python3.10/dist-packages (from torch==1.13.1->colbert-ai==0.2.20) (11.7.99)\n",
            "Requirement already satisfied: setuptools in /usr/local/lib/python3.10/dist-packages (from nvidia-cublas-cu11==11.10.3.66->torch==1.13.1->colbert-ai==0.2.20) (67.7.2)\n",
            "Requirement already satisfied: wheel in /usr/local/lib/python3.10/dist-packages (from nvidia-cublas-cu11==11.10.3.66->torch==1.13.1->colbert-ai==0.2.20) (0.43.0)\n",
            "Requirement already satisfied: filelock in /usr/local/lib/python3.10/dist-packages (from datasets->colbert-ai==0.2.20) (3.15.1)\n",
            "Requirement already satisfied: numpy>=1.17 in /usr/local/lib/python3.10/dist-packages (from datasets->colbert-ai==0.2.20) (1.25.2)\n",
            "Requirement already satisfied: pyarrow>=15.0.0 in /usr/local/lib/python3.10/dist-packages (from datasets->colbert-ai==0.2.20) (16.1.0)\n",
            "Requirement already satisfied: pyarrow-hotfix in /usr/local/lib/python3.10/dist-packages (from datasets->colbert-ai==0.2.20) (0.6)\n",
            "Requirement already satisfied: dill<0.3.9,>=0.3.0 in /usr/local/lib/python3.10/dist-packages (from datasets->colbert-ai==0.2.20) (0.3.8)\n",
            "Requirement already satisfied: pandas in /usr/local/lib/python3.10/dist-packages (from datasets->colbert-ai==0.2.20) (2.0.3)\n",
            "Requirement already satisfied: requests>=2.32.2 in /usr/local/lib/python3.10/dist-packages (from datasets->colbert-ai==0.2.20) (2.32.3)\n",
            "Requirement already satisfied: xxhash in /usr/local/lib/python3.10/dist-packages (from datasets->colbert-ai==0.2.20) (3.4.1)\n",
            "Requirement already satisfied: multiprocess in /usr/local/lib/python3.10/dist-packages (from datasets->colbert-ai==0.2.20) (0.70.16)\n",
            "Requirement already satisfied: fsspec<=2024.5.0,>=2023.1.0 in /usr/local/lib/python3.10/dist-packages (from fsspec[http]<=2024.5.0,>=2023.1.0->datasets->colbert-ai==0.2.20) (2023.6.0)\n",
            "Requirement already satisfied: aiohttp in /usr/local/lib/python3.10/dist-packages (from datasets->colbert-ai==0.2.20) (3.9.5)\n",
            "Requirement already satisfied: huggingface-hub>=0.21.2 in /usr/local/lib/python3.10/dist-packages (from datasets->colbert-ai==0.2.20) (0.23.4)\n",
            "Requirement already satisfied: packaging in /usr/local/lib/python3.10/dist-packages (from datasets->colbert-ai==0.2.20) (24.1)\n",
            "Requirement already satisfied: pyyaml>=5.1 in /usr/local/lib/python3.10/dist-packages (from datasets->colbert-ai==0.2.20) (6.0.1)\n",
            "Requirement already satisfied: Werkzeug>=2.2.2 in /usr/local/lib/python3.10/dist-packages (from flask->colbert-ai==0.2.20) (3.0.3)\n",
            "Requirement already satisfied: Jinja2>=3.0 in /usr/local/lib/python3.10/dist-packages (from flask->colbert-ai==0.2.20) (3.1.4)\n",
            "Requirement already satisfied: itsdangerous>=2.0 in /usr/local/lib/python3.10/dist-packages (from flask->colbert-ai==0.2.20) (2.2.0)\n",
            "Requirement already satisfied: click>=8.0 in /usr/local/lib/python3.10/dist-packages (from flask->colbert-ai==0.2.20) (8.1.7)\n",
            "Requirement already satisfied: gitpython in /usr/local/lib/python3.10/dist-packages (from git-python->colbert-ai==0.2.20) (3.1.43)\n",
            "Requirement already satisfied: regex!=2019.12.17 in /usr/local/lib/python3.10/dist-packages (from transformers->colbert-ai==0.2.20) (2024.5.15)\n",
            "Requirement already satisfied: tokenizers<0.20,>=0.19 in /usr/local/lib/python3.10/dist-packages (from transformers->colbert-ai==0.2.20) (0.19.1)\n",
            "Requirement already satisfied: safetensors>=0.4.1 in /usr/local/lib/python3.10/dist-packages (from transformers->colbert-ai==0.2.20) (0.4.3)\n",
            "Requirement already satisfied: aiosignal>=1.1.2 in /usr/local/lib/python3.10/dist-packages (from aiohttp->datasets->colbert-ai==0.2.20) (1.3.1)\n",
            "Requirement already satisfied: attrs>=17.3.0 in /usr/local/lib/python3.10/dist-packages (from aiohttp->datasets->colbert-ai==0.2.20) (23.2.0)\n",
            "Requirement already satisfied: frozenlist>=1.1.1 in /usr/local/lib/python3.10/dist-packages (from aiohttp->datasets->colbert-ai==0.2.20) (1.4.1)\n",
            "Requirement already satisfied: multidict<7.0,>=4.5 in /usr/local/lib/python3.10/dist-packages (from aiohttp->datasets->colbert-ai==0.2.20) (6.0.5)\n",
            "Requirement already satisfied: yarl<2.0,>=1.0 in /usr/local/lib/python3.10/dist-packages (from aiohttp->datasets->colbert-ai==0.2.20) (1.9.4)\n",
            "Requirement already satisfied: async-timeout<5.0,>=4.0 in /usr/local/lib/python3.10/dist-packages (from aiohttp->datasets->colbert-ai==0.2.20) (4.0.3)\n",
            "Requirement already satisfied: MarkupSafe>=2.0 in /usr/local/lib/python3.10/dist-packages (from Jinja2>=3.0->flask->colbert-ai==0.2.20) (2.1.5)\n",
            "Requirement already satisfied: charset-normalizer<4,>=2 in /usr/local/lib/python3.10/dist-packages (from requests>=2.32.2->datasets->colbert-ai==0.2.20) (3.3.2)\n",
            "Requirement already satisfied: idna<4,>=2.5 in /usr/local/lib/python3.10/dist-packages (from requests>=2.32.2->datasets->colbert-ai==0.2.20) (3.7)\n",
            "Requirement already satisfied: urllib3<3,>=1.21.1 in /usr/local/lib/python3.10/dist-packages (from requests>=2.32.2->datasets->colbert-ai==0.2.20) (2.0.7)\n",
            "Requirement already satisfied: certifi>=2017.4.17 in /usr/local/lib/python3.10/dist-packages (from requests>=2.32.2->datasets->colbert-ai==0.2.20) (2024.6.2)\n",
            "Requirement already satisfied: gitdb<5,>=4.0.1 in /usr/local/lib/python3.10/dist-packages (from gitpython->git-python->colbert-ai==0.2.20) (4.0.11)\n",
            "Requirement already satisfied: python-dateutil>=2.8.2 in /usr/local/lib/python3.10/dist-packages (from pandas->datasets->colbert-ai==0.2.20) (2.8.2)\n",
            "Requirement already satisfied: pytz>=2020.1 in /usr/local/lib/python3.10/dist-packages (from pandas->datasets->colbert-ai==0.2.20) (2023.4)\n",
            "Requirement already satisfied: tzdata>=2022.1 in /usr/local/lib/python3.10/dist-packages (from pandas->datasets->colbert-ai==0.2.20) (2024.1)\n",
            "Requirement already satisfied: smmap<6,>=3.0.1 in /usr/local/lib/python3.10/dist-packages (from gitdb<5,>=4.0.1->gitpython->git-python->colbert-ai==0.2.20) (5.0.1)\n",
            "Requirement already satisfied: six>=1.5 in /usr/local/lib/python3.10/dist-packages (from python-dateutil>=2.8.2->pandas->datasets->colbert-ai==0.2.20) (1.16.0)\n",
            "Installing collected packages: colbert-ai\n",
            "  Attempting uninstall: colbert-ai\n",
            "    Found existing installation: colbert-ai 0.2.20\n",
            "    Uninstalling colbert-ai-0.2.20:\n",
            "      Successfully uninstalled colbert-ai-0.2.20\n",
            "  Running setup.py develop for colbert-ai\n",
            "Successfully installed colbert-ai-0.2.20\n",
            "\u001b[33mWARNING: Running pip as the 'root' user can result in broken permissions and conflicting behaviour with the system package manager, possibly rendering your system unusable.It is recommended to use a virtual environment instead: https://pip.pypa.io/warnings/venv. Use the --root-user-action option if you know what you are doing and want to suppress this warning.\u001b[0m\u001b[33m\n",
            "\u001b[0m"
          ]
        }
      ],
      "source": [
        "try: # When on google Colab, let's install all dependencies with pip.\n",
        "    import google.colab\n",
        "    !pip install -U pip\n",
        "    !pip install -e /content/drive/MyDrive/ColBERT_Indexing/ColBERT/['faiss-gpu','torch']\n",
        "except Exception:\n",
        "  import sys; sys.path.insert(0, 'ColBERT/')\n",
        "  try:\n",
        "    from colbert import Indexer, Searcher\n",
        "  except Exception:\n",
        "    print(\"If you're running outside Colab, please make sure you install ColBERT in conda following the instructions in our README. You can also install (as above) with pip but it may install slower or less stable faiss or torch dependencies. Conda is recommended.\")\n",
        "    assert False"
      ]
    },
    {
      "cell_type": "code",
      "execution_count": 5,
      "metadata": {
        "id": "N0jxbVar4kln"
      },
      "outputs": [],
      "source": [
        "import colbert"
      ]
    },
    {
      "cell_type": "code",
      "execution_count": 6,
      "metadata": {
        "id": "xQg9A-dtp1nB"
      },
      "outputs": [],
      "source": [
        "from colbert import Indexer, Searcher\n",
        "from colbert.infra import Run, RunConfig, ColBERTConfig\n",
        "from colbert.data import Queries, Collection"
      ]
    },
    {
      "cell_type": "code",
      "source": [
        "import sys; sys.path.insert(0, '/content/drive/MyDrive/ColBERT_Indexing')\n",
        "import eAS\n",
        "from eAS.RAG import DataCollator"
      ],
      "metadata": {
        "id": "A5CnneapLVjT"
      },
      "execution_count": 7,
      "outputs": []
    },
    {
      "cell_type": "markdown",
      "source": [
        "## Preprocessing Data for Indexing\n",
        "- The data must be formatted into a collection defined as a `list of strings`. The strings we use in the collection will be what the Searcher compares queries to, to find relevant data. We'll want to use the item description strings as they carry lots of information to compare about a given item.\n",
        "\n",
        "- We want the solve the user story:\n",
        "`As an e-commerce user looking to sell used items, I would like to list my item at a reasonable price, as to attract potiental buyers quickly.`\n",
        "\n",
        "- We can achieve this by using the Search feature later to extract indices of the top item description search results. Then we would use the indices to find the corresponding prices for each item returned by the Searcher. (Indexing doesn't change the order of our collection.)"
      ],
      "metadata": {
        "id": "AxEMnf7cKYar"
      }
    },
    {
      "cell_type": "code",
      "source": [
        "path_to_data = \"/content/drive/MyDrive/ColBERT_Indexing/eAS/Dataset/dataset.json\""
      ],
      "metadata": {
        "id": "lf_tFMrjLTwE"
      },
      "execution_count": 8,
      "outputs": []
    },
    {
      "cell_type": "code",
      "source": [
        "dataset = DataCollator(path_to_data)\n",
        "collection = dataset.get_collection()"
      ],
      "metadata": {
        "id": "Z1zBBQvuN4es"
      },
      "execution_count": 9,
      "outputs": []
    },
    {
      "cell_type": "code",
      "execution_count": 10,
      "metadata": {
        "colab": {
          "base_uri": "https://localhost:8080/"
        },
        "id": "yjHdtPnHSdfP",
        "outputId": "6afcb899-58c6-48c4-e836-9f19a536e0d5"
      },
      "outputs": [
        {
          "output_type": "stream",
          "name": "stdout",
          "text": [
            "Life time toll free support 30 day money back guarantee Free shipping Product *Monitor sold separately Qwe Monitor Acer 27” 170Hz 2K Gaming Monitor 1ms AMD FreeSync Premium, WQHD (2560 x 1440), HDR Support (1 x Display Port 1.2 & 2 x HDMI 2.0 Ports) Nitro KG271U Pbiip Cases AZZA Spectra 280W / Gaming / ATX Mid Tower / Tempered Glass / White Power Supply Super Flower Leadex V Platinum PRO White 1000W ATX 80 PLUS PLATINUM Certified Power Supply Memory 8gb $670.00 *This is custom PC configuration build using our system configurator tool. To insure order accuracy please review system configuration before ordering. .st0 { fill: #000720; } System Configurator More info Monitor Acer 27” 170Hz 2K Gaming Monitor 1ms AMD FreeSync Premium, WQHD (2560 x 1440), HDR Support (1 x Display Port 1.2 & 2 x HDMI 2.0 Ports) Nitro KG271U Pbiip More info Assembly and test NONE SELECTED More info Speakers NONE SELECTED More info Cases AZZA Spectra 280W / Gaming / ATX Mid Tower / Tempered Glass / White More info Power Supply Super Flower Leadex V Platinum PRO White 1000W ATX 80 PLUS PLATINUM Certified Power Supply More info Memory 8gb More info Operating Systems NONE SELECTED Payment Shipping Warranty Support Contacts FAQ\n",
            "\n",
            "---\n",
            "\n",
            "JPT 30W 50W 60W 100W Fiber Laser Marking Engraving Metal Machine Rotary Axis PS:Welcome contact us for more details of this fiber machine! JPT M7 series high power pulsed fiber lasers make use of master oscillator power amplifier (MOPA) configuration, and show excellent laser performance as well as high level of temporal pulse shaping controllability. As compared to the Q-switching technology, the pulse repetition frequency (PRF) and pulse width can be controlled independently in MOPA configuration, through adjusting different combination of the above parameters, the peak power of laser can be well maintained. And enable JPT laser suitable for more material processing which Q-switch limited. The higher output power makes its advantages especially in high speed marking applications. Technical Parameters Item Value Application Laser Marking Laser Power 60W Brand Of Fiber Laser Module JPT laser source Lift Span Of Fiber Laser Module 100,000 hours Light Beam Quality M2<1.5 Marking Line Speed ≤8000mm/s Minimum Line Width 0.012mm Minimum Character 0.15mm/Depends on the material Marking Depth ≤1.2mm/Adjustable depends on the materials Repeating Precision ±0.003mm Focus Spot Diameter <0.01mm Output Power Of Laser 10%~100% continuously to be adjusted Laser Wavelength 1064nm Power Supply AC220V/50Hz Temperature /Humidity 15℃~35℃/10%~95% Power Consumption ≤400W Operating System Win XP/Win7/Win8/Win10 Marking Format Graphics,AI,Text, PLT, DXF, BMP, Dst, Dwg, LAS, DXP,Bar code, QR code etc. Laser Type Fiber Laser Condition New Cooling System Inbuilt air cooling Communication Standard USB2.0 Control Software Ezcad (Easy To Use) Place of Origin China Certification CE, ISO Laser Source Brand JPT Control System Brand BJJCZ (Original version) Gross Weight (KG) 55KG Net Weight (KG) 45KG Package Carton box Key Selling Points Easy to operate Rotary Axis Optional After Warranty Service Video technical support, Online support, Spare parts Marking Area 300mm*300mm/175*175mm Machinery Test Report Provided Video Outgoing-Inspection Provided Warranty of core components 2 years Core Components Motor, bearing, gear, pump, laser source, lens, galvanometer, control board Optional (Not For Free) Rotary device,moving table,other customized automation This above parameters are laboratory test results,subject to actual operating conditions. Application Advantages Sheet metal cutting, Welding Scribing, Drilling Laser derusting Surface treatment Metal surface processing, Peeling coating Marking on fly\n",
            "\n",
            "---\n",
            "\n",
            "Fanxiang M.2 NVME 4TB 2TB 1TB SSD PCIE Game SSD Internal Solid State Drive Lot About us Delivery details Terms of sales Feedback Contact us Fanxiang focus on designing and manufacturing varieties of SSD with high quality and competitive price. We will do our best to serve you! 1. Quality tested to the strictest standards, improved those traditional design weaknesses, to ensure product quality and reliability. 2. Buy with Confidence - 3 year limited warranty. Problems will be resolved within 24h (refund/ replace/ offer technical support). 3. Fast Shipping - Shiped from US warehouse, and delivered by USPS . Waiting time is 3-5 working days only. 4. Any problem, feel free to contact us, best serves wait for you!\n",
            "\n",
            "---\n",
            "\n",
            "30W Solar Panel 12V Trickle Charger Battery Charger Kit Maintainer Boat Car RV Description: DAZONE Trickle battery charger maintainer can charge 12V batteries with the power of the sun and create 30 watts of energy. Mono-crystalline silicon panel works in all daylight conditions and is weatherproof(rain drop is OK, but not completely waterproof)for added durability. Works with automotive, motorcycle, tractor, boat batteries, car battery and more. Built-in blocking diode to prevent reverse discharge, not only maintains the battery lifetime but also extends its usage life. Features : High Efficiency Solar Panel: The product adopts a new conversion way to double the working current of the solar output with the same area and power, providing good performance even in poor light conditions, and the internal diode prevents current leakage at night. Multiple Protection and Reliable: The solar trickle charger comes with overcharge and reverse discharge protection module, safe to use. Solar panel charger size: 33.5x12.5cm, easy to carry. Long Service Life: Advanced encapsulation material with multi-layer laminated sheets improves battery performance and extends service life. The module can withstand high wind pressure, snow load and extreme temperatures. Wide Application: This solar trickle charger is used for all kinds of vehicles, RVs, campers, tractors, motorbikes, snowmobiles, boats and more. NOTE: This product is suitable for low-power products with 5V power supply or low-power products with 12V power supply. Specification: Type:Portable Solar Panel Kit Material: Panel: PET + polycrystalline silicon cell Power: 30W Waterproof rating: IP65 Solar Energy Conversion Rate: 20% NOCT (Nominal Operating Cell Temperature): 40-85°C USB output voltage: 12V Self-consumption: <10mA Operating temperature: -35-60°C Package include: 1 x Solar Panel with Accessories 4 x Suction Cups 1 x Car Charger 1 x Dual Head Clamp 1 x USB Female Cable PAYMENT SHIPPING Return and Refund Policy FEEDBACK Help - Customer Support - Contac We accept payment via PayPal. Use PayPal at checkout to pay with credit or debit. Immediate payment is required. Shipping will be arranged within 1 business day once payment is cleared.\n"
          ]
        }
      ],
      "source": [
        "# Collections is now a list of passages texts\n",
        "print(collection[0], collection[1], collection[2], collection[3], sep='\\n\\n---\\n\\n')"
      ]
    },
    {
      "cell_type": "code",
      "source": [
        "# Lets see how many passages (string rows) we have\n",
        "len(collection)"
      ],
      "metadata": {
        "colab": {
          "base_uri": "https://localhost:8080/"
        },
        "id": "gK3XF4YdOtXF",
        "outputId": "cbc2270a-9088-436e-8d7f-72d994d88431"
      },
      "execution_count": 11,
      "outputs": [
        {
          "output_type": "execute_result",
          "data": {
            "text/plain": [
              "1034"
            ]
          },
          "metadata": {},
          "execution_count": 11
        }
      ]
    },
    {
      "cell_type": "markdown",
      "metadata": {
        "id": "RKJdAAbDu7PZ"
      },
      "source": [
        "## Indexing\n",
        "\n",
        "For an efficient search, we can pre-compute the ColBERT representation of each passage and index them.\n",
        "\n",
        "Below, the `Indexer` take a model checkpoint and writes a (compressed) index to disk. We then prepare a `Searcher` for retrieval from this index."
      ]
    },
    {
      "cell_type": "code",
      "execution_count": 12,
      "metadata": {
        "id": "vKAdVN5MvDKD"
      },
      "outputs": [],
      "source": [
        "# Defining hyperparameters\n",
        "nbits = 2   # encode each dimension with 2 bits\n",
        "doc_maxlen = 300 # truncate passages at 300 tokens\n",
        "max_id = 10000 # Only index up to pid 10,000 to save time and space\n",
        "nranks = 1 # nranks specifies the number of GPUs to use\n",
        "kmeans_niters = 4 # kmeans_niters specifies the number of iterations of k-means clustering; 4 is a good and fast default.\n",
        "                # Consider larger numbers for small datasets.\n",
        "\n",
        "experiment_path = \"/content/drive/MyDrive/ColBERT_Indexing/eAS/RAG\"\n",
        "index_type = 'collection'\n",
        "index_name = f'{index_type}.kmeans_{kmeans_niters}iters.{nbits}bits' # to be used as index name for the indexer later"
      ]
    },
    {
      "cell_type": "markdown",
      "metadata": {
        "id": "XsImrM-rAUzi"
      },
      "source": [
        "To save space and time, we will only run the `Indexer` on the first 10,000 passages. To do so, we will filter out queries that do not contain passages with ids less than 10,000 (not applicable right now, but good to keep in mind)."
      ]
    },
    {
      "cell_type": "markdown",
      "metadata": {
        "id": "orKfQRmQv46u"
      },
      "source": [
        "Now we run the `Indexer` on the collection. This takes about 6 minutes on a T4 GPU."
      ]
    },
    {
      "cell_type": "code",
      "execution_count": 13,
      "metadata": {
        "colab": {
          "base_uri": "https://localhost:8080/"
        },
        "id": "JRiOnzxtwI0j",
        "outputId": "2e4d7ab2-10d4-4f3c-cb83-5237d0690163"
      },
      "outputs": [
        {
          "output_type": "stream",
          "name": "stderr",
          "text": [
            "/usr/local/lib/python3.10/dist-packages/huggingface_hub/utils/_token.py:89: UserWarning: \n",
            "The secret `HF_TOKEN` does not exist in your Colab secrets.\n",
            "To authenticate with the Hugging Face Hub, create a token in your settings tab (https://huggingface.co/settings/tokens), set it as secret in your Google Colab and restart your session.\n",
            "You will be able to reuse this secret in all of your notebooks.\n",
            "Please note that authentication is recommended but still optional to access public models or datasets.\n",
            "  warnings.warn(\n"
          ]
        },
        {
          "output_type": "stream",
          "name": "stdout",
          "text": [
            "\n",
            "\n",
            "[Jun 22, 01:09:22] #> Note: Output directory /content/drive/MyDrive/ColBERT_Indexing/eAS/RAG/indexes/collection.kmeans_4iters.2bits already exists\n",
            "\n",
            "\n",
            "[Jun 22, 01:09:22] #> Will delete 10 files already at /content/drive/MyDrive/ColBERT_Indexing/eAS/RAG/indexes/collection.kmeans_4iters.2bits in 20 seconds...\n",
            "#> Starting...\n",
            "#> Joined...\n"
          ]
        }
      ],
      "source": [
        "checkpoint = 'colbert-ir/colbertv2.0'\n",
        "\n",
        "with Run().context(RunConfig(nranks=nranks, experiment=experiment_path)):\n",
        "  config = ColBERTConfig(\n",
        "    nbits=nbits,\n",
        "    kmeans_niters=kmeans_niters,\n",
        "    doc_maxlen=doc_maxlen,\n",
        "    overwrite=True, # overwrite the indexer config if present\n",
        "  )\n",
        "  indexer = Indexer(checkpoint=checkpoint, config=config)\n",
        "  indexer.index(name=index_name, collection=collection[:max_id], overwrite=True)"
      ]
    },
    {
      "cell_type": "code",
      "execution_count": 14,
      "metadata": {
        "colab": {
          "base_uri": "https://localhost:8080/",
          "height": 52
        },
        "id": "CTbP2LS1xHVZ",
        "outputId": "d90e3884-b85c-457b-a266-34c87c4a588f"
      },
      "outputs": [
        {
          "output_type": "execute_result",
          "data": {
            "text/plain": [
              "'/content/drive/MyDrive/ColBERT_Indexing/eAS/RAG/indexes/collection.kmeans_4iters.2bits'"
            ],
            "application/vnd.google.colaboratory.intrinsic+json": {
              "type": "string"
            }
          },
          "metadata": {},
          "execution_count": 14
        }
      ],
      "source": [
        "indexer.get_index() # You can get the absolute path of the index, if needed."
      ]
    },
    {
      "cell_type": "markdown",
      "metadata": {
        "id": "IY6_D523yBFB"
      },
      "source": [
        "## Search\n",
        "\n",
        "Having built the index and prepared our `searcher`, we can search for individual query strings."
      ]
    },
    {
      "cell_type": "code",
      "execution_count": 15,
      "metadata": {
        "colab": {
          "base_uri": "https://localhost:8080/"
        },
        "id": "j3x_FnVnyB0n",
        "outputId": "ca1f584d-e0b3-4784-95f5-12caff0ff716"
      },
      "outputs": [
        {
          "output_type": "stream",
          "name": "stderr",
          "text": [
            "/usr/local/lib/python3.10/dist-packages/huggingface_hub/file_download.py:1132: FutureWarning: `resume_download` is deprecated and will be removed in version 1.0.0. Downloads always resume when possible. If you want to force a new download, use `force_download=True`.\n",
            "  warnings.warn(\n"
          ]
        },
        {
          "output_type": "stream",
          "name": "stdout",
          "text": [
            "[Jun 22, 01:10:11] #> Loading codec...\n",
            "[Jun 22, 01:10:11] Loading decompress_residuals_cpp extension (set COLBERT_LOAD_TORCH_EXTENSION_VERBOSE=True for more info)...\n",
            "[Jun 22, 01:10:11] Loading packbits_cpp extension (set COLBERT_LOAD_TORCH_EXTENSION_VERBOSE=True for more info)...\n",
            "[Jun 22, 01:10:11] #> Loading IVF...\n",
            "[Jun 22, 01:10:11] #> Loading doclens...\n"
          ]
        },
        {
          "output_type": "stream",
          "name": "stderr",
          "text": [
            "100%|██████████| 1/1 [00:00<00:00, 357.57it/s]"
          ]
        },
        {
          "output_type": "stream",
          "name": "stdout",
          "text": [
            "[Jun 22, 01:10:11] #> Loading codes and residuals...\n"
          ]
        },
        {
          "output_type": "stream",
          "name": "stderr",
          "text": [
            "\n",
            "100%|██████████| 1/1 [00:00<00:00, 40.10it/s]\n"
          ]
        }
      ],
      "source": [
        "# To create the searcher using its relative name (i.e., not a full path), set\n",
        "# experiment=value_used_for_indexing in the RunConfig.\n",
        "with Run().context(RunConfig(experiment=experiment_path)):\n",
        "    searcher = Searcher(index=index_name, collection=collection)\n",
        "\n",
        "# If you want to customize the search latency--quality tradeoff, you can also supply a\n",
        "# config=ColBERTConfig(ncells=.., centroid_score_threshold=.., ndocs=..) argument.\n",
        "# The default settings with k <= 10 (1, 0.5, 256) gives the fastest search,\n",
        "# but you can gain more extensive search by setting larger values of k or\n",
        "# manually specifying more conservative ColBERTConfig settings (e.g. (4, 0.4, 4096))."
      ]
    },
    {
      "cell_type": "markdown",
      "source": [
        "Load in the item titles where each title corresponds to a description from the collection in the same row."
      ],
      "metadata": {
        "id": "KN2u43EmTLvr"
      }
    },
    {
      "cell_type": "code",
      "source": [
        "queries = dataset.get_queries()"
      ],
      "metadata": {
        "id": "pVVu-XJ2XKQ5"
      },
      "execution_count": 16,
      "outputs": []
    },
    {
      "cell_type": "code",
      "source": [
        "print(queries[0], queries[1], queries[2], queries[3], sep='\\n\\n---\\n\\n')"
      ],
      "metadata": {
        "colab": {
          "base_uri": "https://localhost:8080/"
        },
        "id": "mwZsUoDsTVW3",
        "outputId": "d9d74e0f-c1d3-407e-a07d-ce4c1f006386"
      },
      "execution_count": 17,
      "outputs": [
        {
          "output_type": "stream",
          "name": "stdout",
          "text": [
            "asdzxcqwe MM7.61.04\n",
            "\n",
            "---\n",
            "\n",
            "JPT 30W 50W 60W 100W Fiber Laser Marking Engraving Metal Machine & Rotary Axis\n",
            "\n",
            "---\n",
            "\n",
            "Fanxiang M.2 NVME 4TB 2TB 1TB SSD PCIE Game SSD Internal Solid State Drive Lot\n",
            "\n",
            "---\n",
            "\n",
            "30W Solar Panel 12V Trickle Charger Battery Charger Kit Maintainer Boat Car RV\n"
          ]
        }
      ]
    },
    {
      "cell_type": "code",
      "execution_count": 18,
      "metadata": {
        "colab": {
          "base_uri": "https://localhost:8080/"
        },
        "id": "3JYA0N22yIeS",
        "outputId": "c02e7008-d003-4c38-f850-50fdc9e3a54e"
      },
      "outputs": [
        {
          "output_type": "stream",
          "name": "stdout",
          "text": [
            "#> Macbook Pro\n",
            "\n",
            "#> QueryTokenizer.tensorize(batch_text[0], batch_background[0], bsize) ==\n",
            "#> Input: . Macbook Pro, \t\t True, \t\t None\n",
            "#> Output IDs: torch.Size([32]), tensor([ 101,    1, 6097, 8654, 4013,  102,  103,  103,  103,  103,  103,  103,\n",
            "         103,  103,  103,  103,  103,  103,  103,  103,  103,  103,  103,  103,\n",
            "         103,  103,  103,  103,  103,  103,  103,  103], device='cuda:0')\n",
            "#> Output Mask: torch.Size([32]), tensor([1, 1, 1, 1, 1, 1, 0, 0, 0, 0, 0, 0, 0, 0, 0, 0, 0, 0, 0, 0, 0, 0, 0, 0,\n",
            "        0, 0, 0, 0, 0, 0, 0, 0], device='cuda:0')\n",
            "\n",
            "\t [1] \t\t 23.6 \t\t Brand New Apple MacBook Pro MB990LL/A 13.3 in. Notebook!\n",
            "\t [2] \t\t 23.6 \t\t Brand New Apple MacBook Pro MB990LL/A 13.3 in. Notebook!\n",
            "\t [3] \t\t 23.6 \t\t Brand New Apple MacBook Pro MB990LL/A 13.3 in. Notebook!\n"
          ]
        }
      ],
      "source": [
        "query = \"Macbook Pro\" # try with an in-range query or supply your own\n",
        "print(f\"#> {query}\")\n",
        "\n",
        "# Find the top-3 passages for this query\n",
        "results = searcher.search(query, k=3)\n",
        "\n",
        "# Print out the top-k retrieved passages\n",
        "for passage_id, passage_rank, passage_score in zip(*results):\n",
        "    print(f\"\\t [{passage_rank}] \\t\\t {passage_score:.1f} \\t\\t {searcher.collection[passage_id]}\")"
      ]
    },
    {
      "cell_type": "code",
      "source": [
        "# Get average price from top 3 results\n",
        "prices = dataset.get_price()\n",
        "print((float(prices[results[0][0]])+float(prices[results[0][1]])+float(prices[results[0][2]]))/3)"
      ],
      "metadata": {
        "colab": {
          "base_uri": "https://localhost:8080/"
        },
        "id": "wDFNqnndXTE-",
        "outputId": "6b6e227b-655f-4e1d-adba-cdf4ce0aff4f"
      },
      "execution_count": 20,
      "outputs": [
        {
          "output_type": "stream",
          "name": "stdout",
          "text": [
            "500.0\n"
          ]
        }
      ]
    }
  ],
  "metadata": {
    "accelerator": "GPU",
    "colab": {
      "gpuType": "T4",
      "provenance": []
    },
    "kernelspec": {
      "display_name": "Python 3",
      "name": "python3"
    },
    "language_info": {
      "codemirror_mode": {
        "name": "ipython",
        "version": 3
      },
      "file_extension": ".py",
      "mimetype": "text/x-python",
      "name": "python",
      "nbconvert_exporter": "python",
      "pygments_lexer": "ipython3",
      "version": "3.9.1"
    }
  },
  "nbformat": 4,
  "nbformat_minor": 0
}