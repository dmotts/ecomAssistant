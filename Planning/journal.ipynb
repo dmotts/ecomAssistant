{
 "cells": [
  {
   "cell_type": "markdown",
   "metadata": {},
   "source": [
    "## Notes for Data Scraper\n",
    "\n",
    "- Ensure all data scraped is of a specified currency. i.e. US currency only. This may involve specifying the region items are found in the search. "
   ]
  }
 ],
 "metadata": {
  "language_info": {
   "name": "python"
  }
 },
 "nbformat": 4,
 "nbformat_minor": 2
}
